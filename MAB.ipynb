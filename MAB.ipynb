{
 "cells": [
  {
   "cell_type": "code",
   "execution_count": 1,
   "metadata": {},
   "outputs": [],
   "source": [
    "import pandas as pd\n",
    "import numpy as np"
   ]
  },
  {
   "cell_type": "code",
   "execution_count": 2,
   "metadata": {},
   "outputs": [],
   "source": [
    "from MAB.MAB_player import Player\n",
    "from MAB.one_armed_bandits import slot_1, slot_2, slot_3"
   ]
  },
  {
   "cell_type": "code",
   "execution_count": 3,
   "metadata": {},
   "outputs": [],
   "source": [
    "player = Player(\"diogo\")"
   ]
  },
  {
   "cell_type": "markdown",
   "metadata": {},
   "source": [
    "Your goal is to get as much money as possible from playing slot machines.\n",
    "\n",
    "In real life problems the exploration exploitation trade-off and the optimal strategies are more complicated than in this example. But this should give you a better understanding of the trade-off.\n",
    "\n",
    "Bonus points:\n",
    "1. What is the optimal strategy for these slot machines?\n",
    "2. If you can only play 50 games (or any other value) or if your starting money changes, does your approach to maximize money with unknown slot machines hold? For the same slot machines will the optimal strategy change if we make these changes?\n",
    "\n",
    "Note: You can easily calculate the optimal strategy by going through the implementation of the slot machines. However, an agent won't have that information. "
   ]
  },
  {
   "cell_type": "code",
   "execution_count": 4,
   "metadata": {},
   "outputs": [
    {
     "name": "stdout",
     "output_type": "stream",
     "text": [
      "... has 100$\n"
     ]
    }
   ],
   "source": [
    "your_name = \"...\" # your name here\n",
    "\n",
    "player = Player(your_name)\n",
    "\n",
    "print(player) # you start with 100$"
   ]
  },
  {
   "cell_type": "code",
   "execution_count": 5,
   "metadata": {},
   "outputs": [
    {
     "name": "stdout",
     "output_type": "stream",
     "text": [
      "... won\n",
      "The player's money changed by 1.25\n"
     ]
    }
   ],
   "source": [
    "result = slot_1.play_game(player) # this is how you play a game, it changes the player's money and outputs the outcome of the game\n",
    "print(f\"The player's money changed by {result}\")"
   ]
  },
  {
   "cell_type": "code",
   "execution_count": 6,
   "metadata": {},
   "outputs": [
    {
     "name": "stdout",
     "output_type": "stream",
     "text": [
      "... has 100.25$\n"
     ]
    }
   ],
   "source": [
    "print(player) # your new balance\n",
    "player.reset() # reset player"
   ]
  },
  {
   "cell_type": "code",
   "execution_count": 7,
   "metadata": {},
   "outputs": [],
   "source": [
    "## Your strategy here\n",
    "\n"
   ]
  }
 ],
 "metadata": {
  "kernelspec": {
   "display_name": "Python 3.8.2 64-bit",
   "language": "python",
   "name": "python3"
  },
  "language_info": {
   "codemirror_mode": {
    "name": "ipython",
    "version": 3
   },
   "file_extension": ".py",
   "mimetype": "text/x-python",
   "name": "python",
   "nbconvert_exporter": "python",
   "pygments_lexer": "ipython3",
   "version": "3.8.2"
  },
  "orig_nbformat": 4,
  "vscode": {
   "interpreter": {
    "hash": "31f2aee4e71d21fbe5cf8b01ff0e069b9275f58929596ceb00d14d90e3e16cd6"
   }
  }
 },
 "nbformat": 4,
 "nbformat_minor": 2
}
